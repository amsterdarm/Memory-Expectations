{
 "cells": [
  {
   "cell_type": "markdown",
   "id": "57ac5c62",
   "metadata": {},
   "source": [
    "# Learning from Inflation Experiences\n",
    "In this notebook, I demonstrate my recreation of the main analysis of [Malmendier & Nagel (2016)](https://academic.oup.com/qje/article-abstract/131/1/53/2461168). They regress individuals' reported inflation expectations on theoretical expectations calculated from experienced inflation using a recursive learning algorithm."
   ]
  },
  {
   "cell_type": "code",
   "execution_count": 20,
   "id": "d2fc578d",
   "metadata": {},
   "outputs": [],
   "source": [
    "path = 'D:\\Studium\\Master\\Masterarbeit\\Memory-Expectations'\n",
    "\n",
    "# import packages\n",
    "import pandas as pd\n",
    "import numpy as np\n",
    "\n",
    "# Importing some selected functions from packages\n",
    "import statsmodels.formula.api as smf"
   ]
  },
  {
   "cell_type": "markdown",
   "id": "4fea05c4",
   "metadata": {},
   "source": [
    "First, import the \n",
    "- realized inflation time series\n",
    "- survey data reporting individuals' actual inflation expectations"
   ]
  },
  {
   "cell_type": "code",
   "execution_count": 25,
   "id": "98e02be9",
   "metadata": {},
   "outputs": [],
   "source": [
    "malnag_data_infl     = pd.read_excel(path + r'\\data\\infl.xlsx')\n",
    "malnag_data_survey   = pd.read_excel(path + r'\\data\\cohfile.xlsx')"
   ]
  },
  {
   "cell_type": "markdown",
   "id": "a3152a3b",
   "metadata": {},
   "source": [
    "Next, we need to define some parameters for the recursive learning algorithm (RLA):"
   ]
  },
  {
   "cell_type": "code",
   "execution_count": 26,
   "id": "239d69e2",
   "metadata": {},
   "outputs": [],
   "source": [
    "parameters = {}\n",
    "\n",
    "parameters[\"year_start\"]    = 1872\n",
    "parameters[\"year_end\"]      = 2009\n",
    "parameters[\"cohort_start\"]  = 1872\n",
    "parameters[\"cohort_end\"]    = 1984\n",
    "parameters[\"maxage\"]        = 76\n",
    "\n",
    "\n",
    "parameters[\"s_range\"]       = np.arange(parameters[\"year_start\"], parameters[\"cohort_end\"] + 1)\n",
    "parameters[\"t_range\"]       = np.arange(parameters[\"year_start\"], parameters[\"year_end\"] + 1)"
   ]
  },
  {
   "cell_type": "code",
   "execution_count": 27,
   "id": "38f35e75",
   "metadata": {},
   "outputs": [],
   "source": [
    "malnag_data_infl_array = np.array(malnag_data_infl.loc[\n",
    "    (malnag_data_infl['yyyyqtr'] >= parameters[\"year_start\"]*100+1) &\n",
    "    (malnag_data_infl['yyyyqtr'] <= parameters[\"year_end\"]*100+4)]\n",
    "    [\"yrinfl\"])"
   ]
  },
  {
   "cell_type": "markdown",
   "id": "f71d1b83",
   "metadata": {},
   "source": [
    "The RLA further takes a matrix of gain parameters (gamma) as input. These values define, how much a new observation of inflation updates an individual's expectations."
   ]
  },
  {
   "cell_type": "code",
   "execution_count": 23,
   "id": "ffeef429",
   "metadata": {},
   "outputs": [],
   "source": [
    "def MalNagGammaMatrixQuarterly(t_range,s_range,theta):\n",
    "    gamma = np.zeros((len(t_range)*4, len(s_range))) # creating an empty gamma matrix\n",
    "    gamma = np.where(gamma == 0, np.nan, gamma) # filling it with nan\n",
    "    tmin = min(t_range) # minimum values are necessary to adjust row and column indices\n",
    "    smin = min(s_range)\n",
    "    for t in t_range: # loop over all observed years\n",
    "        for q in range(1,4+1): # loop over all quarters is said years\n",
    "            for s in s_range: # loop over all birth cohorts\n",
    "                ageqtr = (t-s)*4+q-1 # calculate age in quarters\n",
    "                # This is the gain function, that M&N2016 rely on\n",
    "                if ageqtr >= 2*theta:\n",
    "                    g = theta/ageqtr\n",
    "                else:\n",
    "                    g = 0.5\n",
    "                rowindex = (t-tmin)*4+q-1\n",
    "                colindex = s-smin\n",
    "                gamma[rowindex,colindex] = g # write calculated gamm into matrix\n",
    "    return gamma"
   ]
  },
  {
   "cell_type": "markdown",
   "id": "afde815a",
   "metadata": {},
   "source": [
    "M&N2016 find a gain a $\\theta$ = 3.044 to be optimal; use it to cretae the gamma matrix:"
   ]
  },
  {
   "cell_type": "code",
   "execution_count": 24,
   "id": "16899f9c",
   "metadata": {},
   "outputs": [],
   "source": [
    "theta = 3.044\n",
    "gamma = MalNagGammaMatrixQuarterly(parameters[\"t_range\"],\n",
    "                                    parameters[\"s_range\"],\n",
    "                                    theta)"
   ]
  },
  {
   "cell_type": "markdown",
   "id": "9f1cd61c",
   "metadata": {},
   "source": [
    "Next, we need do define the recursive learning algorithm:"
   ]
  },
  {
   "cell_type": "code",
   "execution_count": 28,
   "id": "c5aa9a69",
   "metadata": {},
   "outputs": [],
   "source": [
    "def MalNagRLAQuarterly(t_range, s_range, data_start, maxage, inflation_array, gamma_array, initperiod):\n",
    "    # create empty expectations array\n",
    "    expectations = np.zeros((len(t_range)*4, len(s_range)))\n",
    "    expectations = np.where(expectations == 0, np.nan, expectations)\n",
    "    \n",
    "    # again, minimum values are necessary for row and column indices\n",
    "    tmin = min(t_range)\n",
    "    smin = min(s_range)\n",
    "\n",
    "    for s in s_range: # loop over all birth cohorts\n",
    "        for t in t_range: # loop over all observed years\n",
    "            for q in range(1,4+1): # loop over all quarters\n",
    "\n",
    "                rowindex    = (t-tmin)*4+q-1\n",
    "                colindex    = s-smin\n",
    "                \n",
    "                # get this quarter's relaized inflation from time series\n",
    "                infl        = inflation_array[rowindex]\n",
    "\n",
    "                # during the initialization period, parameters of RLA remain unchanged\n",
    "                if (t < data_start + initperiod):\n",
    "                    R       = np.array([[1,0],[0,0]])\n",
    "                    phit    = infl\n",
    "                    cc      = np.array([phit,0])\n",
    "                    x       = np.array([1,0])\n",
    "                    c       = cc\n",
    "                \n",
    "                # after the initialization period, with each quarter of new realized inflation,\n",
    "                # parameter estimates are updated, and individual forms new expectations\n",
    "                # based on updated parameters and new information\n",
    "                elif (t < s + maxage):\n",
    "                    infl_l1 = float(inflation_array[rowindex-1]) # last period's realized inflation\n",
    "                    x       = np.array([1,infl_l1])\n",
    "                    y       = infl\n",
    "                    perr    = y     - np.matmul(cc,x) # last period's prediction error\n",
    "                    \n",
    "                    # This is where the 'learning' takes place,\n",
    "                    # gain parameter gamma controls how much parameters R and cc are updated\n",
    "                    R       = R     + gamma_array[rowindex,colindex]*(np.outer(x,x)-R)\n",
    "                    cc      = cc    + gamma_array[rowindex,colindex]*(np.matmul(np.linalg.pinv(R),x))*perr\n",
    "                    c       = cc\n",
    "                    xcurr   = np.array([1,infl])\n",
    "                    phit    = np.matmul(c,xcurr) # this is the new inflation expectation\n",
    "                    xf      = np.array([1,phit])\n",
    "                    \n",
    "                    # adjust expected inflation for quarterly rythm\n",
    "                    for h in range(1,4,1):\n",
    "                        pf = np.matmul(c,xf)\n",
    "                        phit = phit + pf\n",
    "                        xf = np.array([1,pf])\n",
    "                    phit = phit/(3+1)\n",
    "\n",
    "                expectations[rowindex,colindex] = phit # write expectation into matrix\n",
    "\n",
    "    return expectations"
   ]
  },
  {
   "cell_type": "markdown",
   "id": "2988332b",
   "metadata": {},
   "source": [
    "Given the RLA parameters defined above, a gamma matrix and an initialization period of 20 years, we can simulate the RLA:"
   ]
  },
  {
   "cell_type": "code",
   "execution_count": 30,
   "id": "57db243c",
   "metadata": {},
   "outputs": [],
   "source": [
    "expectations = MalNagRLAQuarterly(t_range            = parameters[\"t_range\"],\n",
    "                                         s_range            = parameters[\"s_range\"],\n",
    "                                         data_start         = parameters[\"year_start\"],\n",
    "                                         maxage             = parameters[\"maxage\"],\n",
    "                                         inflation_array    = malnag_data_infl_array,\n",
    "                                         gamma_array        = gamma,\n",
    "                                         initperiod         = 20)"
   ]
  },
  {
   "cell_type": "markdown",
   "id": "73b382a9",
   "metadata": {},
   "source": [
    "Before we can run the regression, we need to match inflation expectations to the survey. The matching is based on\n",
    "- year of birth (columns)\n",
    "- quarter of observation (rows)"
   ]
  },
  {
   "cell_type": "code",
   "execution_count": 32,
   "id": "4bdf7a21",
   "metadata": {},
   "outputs": [
    {
     "data": {
      "text/html": [
       "<div>\n",
       "<style scoped>\n",
       "    .dataframe tbody tr th:only-of-type {\n",
       "        vertical-align: middle;\n",
       "    }\n",
       "\n",
       "    .dataframe tbody tr th {\n",
       "        vertical-align: top;\n",
       "    }\n",
       "\n",
       "    .dataframe thead th {\n",
       "        text-align: right;\n",
       "    }\n",
       "</style>\n",
       "<table border=\"1\" class=\"dataframe\">\n",
       "  <thead>\n",
       "    <tr style=\"text-align: right;\">\n",
       "      <th></th>\n",
       "      <th>yyyy</th>\n",
       "      <th>age</th>\n",
       "      <th>q</th>\n",
       "      <th>yyyyq</th>\n",
       "      <th>cohort</th>\n",
       "      <th>infl1pct</th>\n",
       "      <th>ir</th>\n",
       "      <th>ic</th>\n",
       "      <th>xnl</th>\n",
       "    </tr>\n",
       "  </thead>\n",
       "  <tbody>\n",
       "    <tr>\n",
       "      <th>0</th>\n",
       "      <td>1953</td>\n",
       "      <td>30</td>\n",
       "      <td>4</td>\n",
       "      <td>19534</td>\n",
       "      <td>1923</td>\n",
       "      <td>-0.003495</td>\n",
       "      <td>327</td>\n",
       "      <td>52</td>\n",
       "      <td>0.031333</td>\n",
       "    </tr>\n",
       "    <tr>\n",
       "      <th>1</th>\n",
       "      <td>1953</td>\n",
       "      <td>40</td>\n",
       "      <td>4</td>\n",
       "      <td>19534</td>\n",
       "      <td>1913</td>\n",
       "      <td>-0.011470</td>\n",
       "      <td>327</td>\n",
       "      <td>42</td>\n",
       "      <td>0.026422</td>\n",
       "    </tr>\n",
       "    <tr>\n",
       "      <th>2</th>\n",
       "      <td>1953</td>\n",
       "      <td>50</td>\n",
       "      <td>4</td>\n",
       "      <td>19534</td>\n",
       "      <td>1903</td>\n",
       "      <td>-0.014711</td>\n",
       "      <td>327</td>\n",
       "      <td>32</td>\n",
       "      <td>0.024281</td>\n",
       "    </tr>\n",
       "    <tr>\n",
       "      <th>3</th>\n",
       "      <td>1953</td>\n",
       "      <td>60</td>\n",
       "      <td>4</td>\n",
       "      <td>19534</td>\n",
       "      <td>1893</td>\n",
       "      <td>-0.004793</td>\n",
       "      <td>327</td>\n",
       "      <td>22</td>\n",
       "      <td>0.023466</td>\n",
       "    </tr>\n",
       "    <tr>\n",
       "      <th>4</th>\n",
       "      <td>1953</td>\n",
       "      <td>70</td>\n",
       "      <td>4</td>\n",
       "      <td>19534</td>\n",
       "      <td>1883</td>\n",
       "      <td>-0.008608</td>\n",
       "      <td>327</td>\n",
       "      <td>12</td>\n",
       "      <td>0.022929</td>\n",
       "    </tr>\n",
       "  </tbody>\n",
       "</table>\n",
       "</div>"
      ],
      "text/plain": [
       "   yyyy  age  q  yyyyq  cohort  infl1pct   ir  ic       xnl\n",
       "0  1953   30  4  19534    1923 -0.003495  327  52  0.031333\n",
       "1  1953   40  4  19534    1913 -0.011470  327  42  0.026422\n",
       "2  1953   50  4  19534    1903 -0.014711  327  32  0.024281\n",
       "3  1953   60  4  19534    1893 -0.004793  327  22  0.023466\n",
       "4  1953   70  4  19534    1883 -0.008608  327  12  0.022929"
      ]
     },
     "execution_count": 32,
     "metadata": {},
     "output_type": "execute_result"
    }
   ],
   "source": [
    "def MalNagMatchExpToSurvey(survey, expectations, parameters):\n",
    "    survey['ir'] = (survey['yyyy'] - parameters[\"year_start\"]) * 4 + survey['q'] - 1\n",
    "    survey['ic'] =  survey['yyyy'] - survey['age'] - (parameters[\"year_start\"] - 1)\n",
    "    survey['xnl'] = 0\n",
    "\n",
    "    for index, row in survey.iterrows():\n",
    "        ir = survey.loc[int(index),'ir']-1\n",
    "        ic = survey.loc[int(index),'ic']-1\n",
    "        survey.loc[int(index),'xnl'] = expectations[ir,ic]\n",
    "\n",
    "    return survey\n",
    "\n",
    "regsample = MalNagMatchExpToSurvey(survey       = malnag_data_survey,\n",
    "                                   expectations = expectations,\n",
    "                                   parameters   = parameters)\n",
    "regsample.head()"
   ]
  },
  {
   "cell_type": "markdown",
   "id": "ff6be335",
   "metadata": {},
   "source": [
    "Lastly, we run the M&N2016 main regression:"
   ]
  },
  {
   "cell_type": "code",
   "execution_count": 33,
   "id": "26a193bd",
   "metadata": {},
   "outputs": [
    {
     "name": "stdout",
     "output_type": "stream",
     "text": [
      "M&N2016 have a beta = 0.672 (0.076), we find beta = 0.6715 (0.0733)\n"
     ]
    }
   ],
   "source": [
    "model_1 = smf.ols('infl1pct ~ xnl + C(yyyyq) - 1',data = regsample)\n",
    "model_1 = model_1.fit(cov_type=\"cluster\",\n",
    "                  cov_kwds={\"groups\": [regsample['yyyyq'],regsample['cohort']]})\n",
    "\n",
    "print(\"M&N2016 have a beta = 0.672 (0.076), we find beta = \"\n",
    "      + str(round(model_1.params[-1],4)) + \" (\" + str(round(model_1.bse[-1], 4)) + \")\")"
   ]
  },
  {
   "cell_type": "code",
   "execution_count": null,
   "id": "317a42ef",
   "metadata": {},
   "outputs": [],
   "source": []
  }
 ],
 "metadata": {
  "kernelspec": {
   "display_name": "Python 3 (ipykernel)",
   "language": "python",
   "name": "python3"
  },
  "language_info": {
   "codemirror_mode": {
    "name": "ipython",
    "version": 3
   },
   "file_extension": ".py",
   "mimetype": "text/x-python",
   "name": "python",
   "nbconvert_exporter": "python",
   "pygments_lexer": "ipython3",
   "version": "3.9.13"
  }
 },
 "nbformat": 4,
 "nbformat_minor": 5
}
